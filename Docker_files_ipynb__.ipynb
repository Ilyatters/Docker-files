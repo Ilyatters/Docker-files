{
  "nbformat": 4,
  "nbformat_minor": 0,
  "metadata": {
    "colab": {
      "provenance": []
    },
    "kernelspec": {
      "name": "python3",
      "display_name": "Python 3"
    },
    "language_info": {
      "name": "python"
    }
  },
  "cells": [
    {
      "cell_type": "code",
      "execution_count": 1,
      "metadata": {
        "id": "CbaFMiGEYqo9",
        "colab": {
          "base_uri": "https://localhost:8080/"
        },
        "outputId": "5da572e4-fad4-4b72-fe63-4c3672d000bf"
      },
      "outputs": [
        {
          "output_type": "stream",
          "name": "stdout",
          "text": [
            "Downloading...\n",
            "From (original): https://drive.google.com/uc?id=17LxpFekvTi_dV0IqcAiQGJCyL0LerA5f\n",
            "From (redirected): https://drive.google.com/uc?id=17LxpFekvTi_dV0IqcAiQGJCyL0LerA5f&confirm=t&uuid=e2282c09-0107-464b-9be1-e291dedde04f\n",
            "To: /content/homework_ml_pipeline.zip\n",
            "100% 210M/210M [00:03<00:00, 63.0MB/s]\n",
            "Downloading...\n",
            "From (original): https://drive.google.com/uc?id=1UEm1Pn--gDEBhldKzsNMPOntP5YrYEQw\n",
            "From (redirected): https://drive.google.com/uc?id=1UEm1Pn--gDEBhldKzsNMPOntP5YrYEQw&confirm=t&uuid=5f9c9575-5183-43e3-a822-0a37b71146ef\n",
            "To: /content/hw_script.tar\n",
            "100% 288M/288M [00:03<00:00, 88.0MB/s]\n"
          ]
        }
      ],
      "source": [
        "import gdown\n",
        "!gdown 'https://drive.google.com/uc?id=17LxpFekvTi_dV0IqcAiQGJCyL0LerA5f'\n",
        "!gdown 'https://drive.google.com/uc?id=1UEm1Pn--gDEBhldKzsNMPOntP5YrYEQw'"
      ]
    },
    {
      "cell_type": "code",
      "source": [
        "!unzip homework_ml_pipeline.zip"
      ],
      "metadata": {
        "id": "wKJqRw6BYwxC"
      },
      "execution_count": null,
      "outputs": []
    },
    {
      "cell_type": "code",
      "source": [],
      "metadata": {
        "id": "2RnZJsaFk71v"
      },
      "execution_count": null,
      "outputs": []
    }
  ]
}